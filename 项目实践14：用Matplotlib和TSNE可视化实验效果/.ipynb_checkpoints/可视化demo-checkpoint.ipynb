{
 "cells": [
  {
   "cell_type": "code",
   "execution_count": 9,
   "metadata": {},
   "outputs": [
    {
     "data": {
      "image/png": "[encoded data removed]",
      "text/plain": [
       "<Figure size 432x288 with 1 Axes>"
      ]
     },
     "metadata": {
      "needs_background": "light"
     },
     "output_type": "display_data"
    }
   ],
   "source": [
    "import matplotlib.pyplot as plt\n",
    "from sklearn.metrics import roc_curve, auc\n",
    "  \n",
    "y_test = np.array([0, 1, 0, 1, 1, 1, 0, 1, 1, 1, 1, 1, 1, 0, 0, 0, 0, 0, 0, 0, 0, 1,  0, 1, 0, 0, 0, 1, 1, 1])  \n",
    "  \n",
    "y_score = np.array([ 0.17267435,  0.65502116, -0.54222913,  0.3548153 ,  0.0043917 ,  \n",
    "       -0.20117165,  0.05791453,  0.00383045, -0.15164967,  0.25616448,  \n",
    "        0.39700001,  0.04521194,  0.33390031, -0.12555765,  0.23799148,  \n",
    "       -0.36378854, -0.08697789, -0.11682054, -0.25244267, -0.23321231,  \n",
    "       -0.18097178, -0.10763756, -0.32069159,  0.72074967, -0.29360569,  \n",
    "       -0.2213709 , -0.32328807, -0.19504498, -0.24365451,  0.37595292])  \n",
    "  \n",
    "fpr,tpr,threshold = roc_curve(y_test, y_score)   \n",
    "roc_auc = auc(fpr,tpr)   \n",
    "   \n",
    "fig = plt.figure()  \n",
    "lw = 2  \n",
    "ax = fig.add_subplot(111)  \n",
    "  \n",
    "ax.plot(fpr, tpr, color='darkorange',  \n",
    "         lw=lw, label='ROC curve (area = %0.2f)' % roc_auc)   \n",
    "ax.plot([0, 1], [0, 1], color='navy', lw=lw, linestyle='--')  \n",
    "ax.set_xlim([0.0, 1.0])  \n",
    "ax.set_ylim([0.0, 1.05])  \n",
    "ax.set_xlabel('False Positive Rate')  \n",
    "ax.set_ylabel('True Positive Rate')  \n",
    "ax.set_title('Receiver operating characteristic example')  \n",
    "ax.legend(loc=\"lower right\")  \n",
    "plt.show()\n"
   ]
  },
  {
   "cell_type": "code",
   "execution_count": null,
   "metadata": {},
   "outputs": [],
   "source": [
    "# -*- coding:utf-8 -*-\n",
    "\n",
    "from time import time\n",
    "import numpy as np\n",
    "import matplotlib.pyplot as plt\n",
    "from sklearn import (manifold, datasets, decomposition)\n",
    "import os\n",
    "\n",
    "\n",
    "def load(dir, name_file):\n",
    "    X = []\n",
    "    Y = []\n",
    "    path = os.path.join(dir, name_file)\n",
    "    file_data = open(path, 'r')\n",
    "    for line in file_data:\n",
    "        x = []\n",
    "        for xi in line.strip().split(',')[:-2]:\n",
    "            x.append(int(xi))\n",
    "        x.append(1.0)\n",
    "        X.append(x)\n",
    "        Y.append(int(line.strip().split(',')[-1]))\n",
    "    return np.array(X), np.array(Y)\n",
    "\n",
    "\n",
    "## Function to Scale and visualize the embedding vectors\n",
    "def plot_embedding(X, y, title=None):\n",
    "    x_min, x_max = np.min(X, 0), np.max(X, 0)\n",
    "    X = (X - x_min) / (x_max - x_min)\n",
    "    plt.figure()\n",
    "    for i in range(X.shape[0]):\n",
    "        plt.text(X[i, 0], X[i, 1], str(y[i]),\n",
    "                 color=plt.cm.Set1(int(y[i]*10)),\n",
    "                 fontdict={'weight': 'bold', 'size': 9})\n",
    "    plt.xticks([]), plt.yticks([])\n",
    "    if title is not None:\n",
    "        plt.title(title)\n",
    "\n",
    "if __name__ == '__main__':\n",
    "    X, y = load('', 'data')\n",
    "    n_samples, n_features = X.shape\n",
    "    n_neighbors = 30\n",
    "    ## Computing PCA\n",
    "    print(\"Computing PCA projection\")\n",
    "    t0 = time()\n",
    "    X_pca = decomposition.TruncatedSVD(n_components=2).fit_transform(X)\n",
    "    plot_embedding(X_pca, y,\n",
    "                   \"Principal Components projection of the digits (time %.2fs)\" %\n",
    "                   (time() - t0))\n",
    "    ## Computing t-SNE\n",
    "    print(\"Computing t-SNE embedding\")\n",
    "    tsne = manifold.TSNE(n_components=2, init='pca', random_state=0)\n",
    "    t0 = time()\n",
    "    X_tsne = tsne.fit_transform(X)\n",
    "    plot_embedding(X_tsne, y,\n",
    "                   \"t-SNE embedding of the digits (time %.2fs)\" %\n",
    "                   (time() - t0))\n",
    "    plt.show()"
   ]
  }
 ],
 "metadata": {
  "kernelspec": {
   "display_name": "Python 3",
   "language": "python",
   "name": "python3"
  },
  "language_info": {
   "codemirror_mode": {
    "name": "ipython",
    "version": 3
   },
   "file_extension": ".py",
   "mimetype": "text/x-python",
   "name": "python",
   "nbconvert_exporter": "python",
   "pygments_lexer": "ipython3",
   "version": "3.6.3"
  }
 },
 "nbformat": 4,
 "nbformat_minor": 2
}
